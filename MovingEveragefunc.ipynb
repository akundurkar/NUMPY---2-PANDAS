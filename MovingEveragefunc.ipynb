{
 "cells": [
  {
   "cell_type": "code",
   "execution_count": 1,
   "metadata": {},
   "outputs": [
    {
     "name": "stdout",
     "output_type": "stream",
     "text": [
      "\n",
      "\n",
      "[3, 5, 7, 2, 8, 10, 11, 65, 72, 81, 99, 100, 150]\n",
      "[5.0, 4.666666666666667, 5.666666666666667, 6.666666666666667, 9.666666666666666, 28.666666666666668, 49.333333333333336, 72.66666666666667, 84.0, 93.33333333333333, 116.33333333333333]\n",
      "\n",
      "\n"
     ]
    }
   ],
   "source": [
    "def print_moving_avg(arr, window_size):\n",
    "    import numpy as np\n",
    "    print(\"\\n\")\n",
    "    print(arr)\n",
    "    window_arr = np.fromfunction(lambda x:x, (window_size,), dtype=int)\n",
    "    print([np.mean(np.take(arr, window_arr + i)) for i in range(len(arr) - window_size + 1)])\n",
    "    print(\"\\n\")\n",
    "\n",
    "\n",
    "print_moving_avg([3, 5, 7, 2, 8, 10, 11, 65, 72, 81, 99, 100, 150], 3)\n",
    "\n",
    "\n",
    "\n"
   ]
  },
  {
   "cell_type": "code",
   "execution_count": null,
   "metadata": {},
   "outputs": [],
   "source": []
  }
 ],
 "metadata": {
  "kernelspec": {
   "display_name": "Python 3",
   "language": "python",
   "name": "python3"
  },
  "language_info": {
   "codemirror_mode": {
    "name": "ipython",
    "version": 3
   },
   "file_extension": ".py",
   "mimetype": "text/x-python",
   "name": "python",
   "nbconvert_exporter": "python",
   "pygments_lexer": "ipython3",
   "version": "3.7.1"
  }
 },
 "nbformat": 4,
 "nbformat_minor": 2
}
