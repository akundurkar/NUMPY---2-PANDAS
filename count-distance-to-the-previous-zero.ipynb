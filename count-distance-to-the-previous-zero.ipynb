{
 "cells": [
  {
   "cell_type": "code",
   "execution_count": 1,
   "metadata": {},
   "outputs": [
    {
     "name": "stdout",
     "output_type": "stream",
     "text": [
      "   X  Y\n",
      "0  7  1\n",
      "1  2  2\n",
      "2  0  0\n",
      "3  3  1\n",
      "4  4  2\n",
      "5  2  3\n",
      "6  5  4\n",
      "7  0  0\n",
      "8  3  1\n",
      "9  4  2\n"
     ]
    }
   ],
   "source": [
    "# import pandas\n",
    "import pandas as pd\n",
    "# generate the data frame\n",
    "arr = [7, 2, 0, 3, 4, 2, 5, 0, 3, 4]\n",
    "dictionary = {'X': arr}\n",
    "df = pd.DataFrame(dictionary)\n",
    "computed_col = []\n",
    "index = -1\n",
    "for i in range(len(df.X)):\n",
    "    if df.X[i] == 0: \n",
    "        index = i\n",
    "    if index == -1:\n",
    "        computed_col.append(i+1)\n",
    "    else:\n",
    "        computed_col.append(i - index)\n",
    "\n",
    "series = pd.Series(computed_col, name = 'Y')\n",
    "df = df.join(series, how = 'right') # \"how\" attribute doesn't have any affect here. why??\n",
    "print(df)\n",
    "\n"
   ]
  },
  {
   "cell_type": "code",
   "execution_count": null,
   "metadata": {},
   "outputs": [],
   "source": []
  }
 ],
 "metadata": {
  "kernelspec": {
   "display_name": "Python 3",
   "language": "python",
   "name": "python3"
  },
  "language_info": {
   "codemirror_mode": {
    "name": "ipython",
    "version": 3
   },
   "file_extension": ".py",
   "mimetype": "text/x-python",
   "name": "python",
   "nbconvert_exporter": "python",
   "pygments_lexer": "ipython3",
   "version": "3.7.1"
  }
 },
 "nbformat": 4,
 "nbformat_minor": 2
}
