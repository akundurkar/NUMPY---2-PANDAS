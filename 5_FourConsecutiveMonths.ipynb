{
 "cells": [
  {
   "cell_type": "code",
   "execution_count": 4,
   "metadata": {},
   "outputs": [
    {
     "name": "stdout",
     "output_type": "stream",
     "text": [
      "             random_number\n",
      "Group_Index               \n",
      "1                      999\n",
      "2                      997\n",
      "3                      997\n"
     ]
    }
   ],
   "source": [
    "# import statements\n",
    "import numpy as np\n",
    "import datetime as dt\n",
    "import pandas as pd\n",
    "import math\n",
    "from numpy.random import randn as rn\n",
    "\n",
    "# initialization\n",
    "def get_no_of_days_in_the_year(year):\n",
    "    start_date = dt.datetime(year,1,1).date()\n",
    "    end_date = dt.datetime(year,12,31).date()\n",
    "    no_of_days = (end_date - start_date).days + 1\n",
    "    return no_of_days\n",
    "\n",
    "def generate_data_frame():\n",
    "    df = pd.DataFrame() \n",
    "    try:\n",
    "        df = pd.read_pickle(\"C:/ACADGILD/ASSIGNMENTS/NUMPY - 2 & PANDAS/pickle.pickle\")\n",
    "    except FileNotFoundError:\n",
    "        pass\n",
    "    if not df.empty:\n",
    "        return df\n",
    "    # build date collection\n",
    "    start_date = dt.datetime(2015,1,1).date()\n",
    "    dates = [(start_date + dt.timedelta(days = i)).isoformat() for i in range(get_no_of_days_in_the_year(2015)) if not (start_date + dt.timedelta(days = i)).isoweekday() in [6,7]]\n",
    "\n",
    "    # build random numbers dataframe\n",
    "    df_random = pd.DataFrame(np.random.randint(100,1000, (len(dates), 1)), columns = [\"random_number\"])\n",
    "\n",
    "    # create data frame\n",
    "    df = pd.DataFrame({\"Date\": dates})\n",
    "\n",
    "    # join the series and data frame to build the desired output\n",
    "    df = df.join(df_random)\n",
    "    # df.set_index(\"Date\", inplace=True)\n",
    "    df.to_pickle(\"C:/ACADGILD/ASSIGNMENTS/NUMPY - 2 & PANDAS/pickle.pickle\")\n",
    "    return df\n",
    "\n",
    "# get the DataFrame\n",
    "df = generate_data_frame()\n",
    "\n",
    "# generate a new column named month by splitting date strings at '-' character \n",
    "# and picking up the second element from the its output\n",
    "df[\"Month\"] = df[\"Date\"].apply(lambda x: str(x).split('-')[1])\n",
    "\n",
    "# now generate a new column \"Group_Index\" by applying computation on \"Month\" col. \n",
    "# The objective here is to generate the new col in such a way that a group of four \n",
    "# consecutive months (starting from the first month) have same value, \n",
    "# which will ultimately help in applying groupby function to get the \n",
    "# max value from the \"random_number\" column in each group\n",
    "df[\"Group_Index\"] = df[\"Month\"].apply(lambda x: math.ceil(int(x)/4))\n",
    "\n",
    "# compute and print the max value in each group\n",
    "groupby_Group_Index = df.groupby(\"Group_Index\").agg({'random_number': lambda x: x.max()})\n",
    "print(groupby_Group_Index)"
   ]
  },
  {
   "cell_type": "code",
   "execution_count": null,
   "metadata": {},
   "outputs": [],
   "source": []
  }
 ],
 "metadata": {
  "kernelspec": {
   "display_name": "Python 3",
   "language": "python",
   "name": "python3"
  },
  "language_info": {
   "codemirror_mode": {
    "name": "ipython",
    "version": 3
   },
   "file_extension": ".py",
   "mimetype": "text/x-python",
   "name": "python",
   "nbconvert_exporter": "python",
   "pygments_lexer": "ipython3",
   "version": "3.7.1"
  }
 },
 "nbformat": 4,
 "nbformat_minor": 2
}
